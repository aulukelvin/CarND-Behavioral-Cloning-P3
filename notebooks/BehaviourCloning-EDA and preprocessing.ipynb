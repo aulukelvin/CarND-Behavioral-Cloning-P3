{
 "cells": [
  {
   "cell_type": "code",
   "execution_count": 4,
   "metadata": {
    "collapsed": false
   },
   "outputs": [
    {
     "name": "stdout",
     "output_type": "stream",
     "text": [
      "total number: 24108\n"
     ]
    }
   ],
   "source": [
    "import pandas as pd\n",
    "import scipy.misc\n",
    "import random\n",
    "import numpy as np\n",
    "import cv2\n",
    "import time\n",
    "import pickle \n",
    "\n",
    "#read data.txt\n",
    "driving_log=pd.read_csv('./data/driving_log.csv').sample(frac=1.0)\n",
    "\n",
    "driving_log.describe()\n",
    "\n",
    "df_no_zero = driving_log[driving_log.steering != 0]\n",
    "df_zero = driving_log[driving_log.steering == 0]\n",
    "\n",
    "print(\"Non-zero steering data: %d\"%(len(df_no_zero)))\n",
    "print(\"Zero steering angle data: %d\"%(len(df_zero)))\n",
    "df = df_no_zero.append(df_zero.sample(frac=0.085))\n",
    "print(\"Total data set: %d\"%(len(df)))\n",
    "\n",
    "df[['center','left','right','steering']].to_csv('./data/trimmed_driving_log.csv',index=False)\n",
    "\n",
    "gallery = {}\n",
    "def savetoGallery(string):\n",
    "    assert(string is not None)\n",
    "    string = string.strip()\n",
    "    img = cv2.imread('./data/' + string)\n",
    "    gallery[string] = img\n",
    "\n",
    "images = driving_log[['center','left','right']].as_matrix()\n",
    "for row in images:\n",
    "    savetoGallery(row[0])\n",
    "    savetoGallery(row[1])\n",
    "    savetoGallery(row[2])\n",
    "\n",
    "print('total number: {}'.format(len(gallery)))\n",
    "f = open('./gallery.p', 'wb')   \n",
    "pickle.dump(gallery, f)      \n",
    "f.close() "
   ]
  },
  {
   "cell_type": "code",
   "execution_count": 33,
   "metadata": {
    "collapsed": false
   },
   "outputs": [
    {
     "name": "stdout",
     "output_type": "stream",
     "text": [
      "23622\n"
     ]
    }
   ],
   "source": [
    "#get number of images\n",
    "num_images = len(df)\n",
    "\n",
    "#split train/validation data set\n",
    "#msk = np.random.rand(num_images) < 0.8\n",
    "#train = df[msk]\n",
    "#valid = df[~msk]\n",
    "\n",
    "#print('total number: {}, reserved for training: {}, validation: {}'.format(num_images, len(train), len(valid)))\n",
    "\n",
    "def LoadTrainBatch(batch_size):\n",
    "    offset = 0.2\n",
    "    \n",
    "    x_out = []\n",
    "    y_out = []\n",
    "    batch = df.sample(batch_size).as_matrix()\n",
    "    \n",
    "    for row in batch:\n",
    "        x_out.append('./data/' + row[0].strip())\n",
    "        y_out.append(row[3])\n",
    "        \n",
    "        # add left image\n",
    "        x_out.append('./data/' + row[1].strip())\n",
    "        y_out.append(min(1, row[3] + offset))\n",
    "        \n",
    "        # add right image\n",
    "        x_out.append('./data/' + row[2].strip())\n",
    "        y_out.append(max(-1, row[3] - offset))\n",
    "        \n",
    "        # flip horizontal\n",
    "        x_out.append('./data/' + row[0].strip())\n",
    "        y_out.append(- row[3])\n",
    "        \n",
    "        # add left image\n",
    "        x_out.append('./data/' + row[1].strip())\n",
    "        y_out.append(- min(1, row[3] + offset))\n",
    "        \n",
    "        # add right image\n",
    "        x_out.append('./data/' + row[2].strip())\n",
    "        y_out.append(- max(-1, row[3] - offset))\n",
    "        \n",
    "    print(len(x_out))\n",
    "    return np.array(x_out), np.array(y_out)\n",
    "\n",
    "def LoadValBatch(batch_size):\n",
    "    x_out = []\n",
    "    y_out = []\n",
    "    batch = valid.sample(batch_size).as_matrix()\n",
    "    for row in batch:\n",
    "        x_out.append(transform(scipy.misc.imread('./data/' + row[0].strip())) / 255 -0.5)\n",
    "        y_out.append(row[3])\n",
    "    return np.array(x_out), np.array(y_out)\n",
    "\n",
    "#xCenter_train, y_train = LoadTrainBatch(len(train))\n",
    "#xCenter_valid, y_valid = LoadTrainBatch(len(valid))\n",
    "\n",
    "x, y = LoadTrainBatch(len(df))"
   ]
  },
  {
   "cell_type": "code",
   "execution_count": 37,
   "metadata": {
    "collapsed": false,
    "scrolled": true
   },
   "outputs": [
    {
     "data": {
      "image/png": "[encoded data removed]",
      "text/plain": [
       "<matplotlib.figure.Figure at 0x7fda0efd3b00>"
      ]
     },
     "metadata": {},
     "output_type": "display_data"
    },
    {
     "data": {
      "image/png": "[encoded data removed]",
      "text/plain": [
       "<matplotlib.figure.Figure at 0x7fda0efd3240>"
      ]
     },
     "metadata": {},
     "output_type": "display_data"
    }
   ],
   "source": [
    "### inspection\n",
    "import matplotlib.pyplot as plt\n",
    "%matplotlib inline\n",
    "def inspectHistogramOriginal():\n",
    "    pltChangeSize()\n",
    "    \n",
    "    plt.hist(df['steering'], bins=101, label='total')\n",
    "\n",
    "    plt.title('Original image classes Histogram')  \n",
    "    plt.xlabel('steering angles')  \n",
    "    plt.ylabel('Counts')  \n",
    "    plt.legend()  \n",
    "    plt.show()\n",
    "    \n",
    "def inspectHistogram():\n",
    "    pltChangeSize()\n",
    "    \n",
    "    plt.hist(y, bins=101, label='total')\n",
    "\n",
    "    plt.title('Image classes Histogram')  \n",
    "    plt.xlabel('steering angles')  \n",
    "    plt.ylabel('Counts')  \n",
    "    plt.legend()  \n",
    "    plt.show()\n",
    "    \n",
    "def pltChangeSize():\n",
    "    fig_size = plt.rcParams[\"figure.figsize\"]\n",
    "    # Set figure width to 12 and height to 9\n",
    "    fig_size[0] = 12\n",
    "    fig_size[1] = 9\n",
    "    plt.rcParams[\"figure.figsize\"] = fig_size\n",
    "\n",
    "inspectHistogramOriginal()\n",
    "inspectHistogram()"
   ]
  },
  {
   "cell_type": "code",
   "execution_count": 26,
   "metadata": {
    "collapsed": false
   },
   "outputs": [
    {
     "name": "stdout",
     "output_type": "stream",
     "text": [
      "total number: 7830\n"
     ]
    }
   ],
   "source": [
    "print('total number: {}'.format(len(x)))\n",
    "pdata = {'x':x, 'y':y}\n",
    "f = open('./data.p', 'wb')   \n",
    "pickle.dump(pdata, f)      \n",
    "f.close() "
   ]
  },
  {
   "cell_type": "code",
   "execution_count": null,
   "metadata": {
    "collapsed": false
   },
   "outputs": [],
   "source": [
    "\n",
    "\n",
    "def frange(start, end, step):\n",
    "    while start < end:\n",
    "        yield start\n",
    "        start += step\n",
    "        \n",
    "def plotImagesPerClass():\n",
    "    pltChangeSize()\n",
    "    step = 0.2\n",
    "    classes = frange(-1.1, 1.1, step)\n",
    "\n",
    "    for cls in classes:\n",
    "        fig, axes = plt.subplots(ncols=3, figsize=(18, 4))\n",
    "        ceil = cls + step\n",
    "        subset = driving_log.loc[(driving_log['steering'] >= cls) & (driving_log['steering'] < ceil)]\n",
    "        print(\"{} Steering angle between {:.1f} and {:.1f}\".format(len(subset), cls, ceil))\n",
    "        \n",
    "        if len(subset)>0:\n",
    "            idx = subset.sample(1)\n",
    "            \n",
    "        axes[0].set_xticks([])\n",
    "        axes[0].set_yticks([])\n",
    "        print('./data/' + idx['left'].iloc[0].strip())\n",
    "        axes[0].imshow(cv2.resize(scipy.misc.imread('./data/' + idx['left'].iloc[0].strip()),(96,48)))\n",
    "\n",
    "        axes[1].set_xticks([])\n",
    "        axes[1].set_yticks([])\n",
    "        axes[1].imshow(scipy.misc.imread('./data/' + idx['center'].iloc[0].strip()))\n",
    "\n",
    "        axes[2].set_xticks([])\n",
    "        axes[2].set_yticks([])\n",
    "        axes[2].imshow(scipy.misc.imread('./data/' + idx['right'].iloc[0].strip()))\n",
    "\n",
    "\n",
    "        plt.show()\n",
    "            \n",
    "\n",
    "    \n",
    "plotImagesPerClass()"
   ]
  },
  {
   "cell_type": "code",
   "execution_count": null,
   "metadata": {
    "collapsed": true
   },
   "outputs": [],
   "source": []
  },
  {
   "cell_type": "code",
   "execution_count": 3,
   "metadata": {
    "collapsed": true
   },
   "outputs": [],
   "source": [
    "pts1 = np.float32([[140,60],[180,60],[0,100],[320,100]])\n",
    "pts2 = np.float32([[140,0],[180,0],[0,120],[320,120]])\n",
    "\n",
    "M = cv2.getPerspectiveTransform(pts1,pts2)\n",
    "\n",
    "def transform(img):\n",
    "    dst = cv2.warpPerspective(img,M,(320,160))\n",
    "    dst = cv2.resize(dst, (64,64))\n",
    "    return dst"
   ]
  },
  {
   "cell_type": "code",
   "execution_count": null,
   "metadata": {
    "collapsed": true
   },
   "outputs": [],
   "source": []
  }
 ],
 "metadata": {
  "anaconda-cloud": {},
  "kernelspec": {
   "display_name": "Python 3",
   "language": "python",
   "name": "python3"
  },
  "language_info": {
   "codemirror_mode": {
    "name": "ipython",
    "version": 3
   },
   "file_extension": ".py",
   "mimetype": "text/x-python",
   "name": "python",
   "nbconvert_exporter": "python",
   "pygments_lexer": "ipython3",
   "version": "3.5.2"
  },
  "widgets": {
   "state": {},
   "version": "1.1.2"
  }
 },
 "nbformat": 4,
 "nbformat_minor": 2
}
