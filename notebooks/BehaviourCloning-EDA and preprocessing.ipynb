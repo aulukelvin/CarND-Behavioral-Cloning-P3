{
 "cells": [
  {
   "cell_type": "code",
   "execution_count": 1,
   "metadata": {
    "collapsed": false
   },
   "outputs": [
    {
     "data": {
      "text/html": [
       "<div>\n",
       "<table border=\"1\" class=\"dataframe\">\n",
       "  <thead>\n",
       "    <tr style=\"text-align: right;\">\n",
       "      <th></th>\n",
       "      <th>steering</th>\n",
       "      <th>throttle</th>\n",
       "      <th>brake</th>\n",
       "      <th>speed</th>\n",
       "    </tr>\n",
       "  </thead>\n",
       "  <tbody>\n",
       "    <tr>\n",
       "      <th>count</th>\n",
       "      <td>8036.000000</td>\n",
       "      <td>8036.000000</td>\n",
       "      <td>8036.000000</td>\n",
       "      <td>8036.000000</td>\n",
       "    </tr>\n",
       "    <tr>\n",
       "      <th>mean</th>\n",
       "      <td>0.004070</td>\n",
       "      <td>0.869660</td>\n",
       "      <td>0.001970</td>\n",
       "      <td>28.169839</td>\n",
       "    </tr>\n",
       "    <tr>\n",
       "      <th>std</th>\n",
       "      <td>0.128840</td>\n",
       "      <td>0.301326</td>\n",
       "      <td>0.036565</td>\n",
       "      <td>6.149327</td>\n",
       "    </tr>\n",
       "    <tr>\n",
       "      <th>min</th>\n",
       "      <td>-0.942695</td>\n",
       "      <td>0.000000</td>\n",
       "      <td>0.000000</td>\n",
       "      <td>0.502490</td>\n",
       "    </tr>\n",
       "    <tr>\n",
       "      <th>25%</th>\n",
       "      <td>0.000000</td>\n",
       "      <td>0.985533</td>\n",
       "      <td>0.000000</td>\n",
       "      <td>30.183093</td>\n",
       "    </tr>\n",
       "    <tr>\n",
       "      <th>50%</th>\n",
       "      <td>0.000000</td>\n",
       "      <td>0.985533</td>\n",
       "      <td>0.000000</td>\n",
       "      <td>30.186400</td>\n",
       "    </tr>\n",
       "    <tr>\n",
       "      <th>75%</th>\n",
       "      <td>0.000000</td>\n",
       "      <td>0.985533</td>\n",
       "      <td>0.000000</td>\n",
       "      <td>30.186640</td>\n",
       "    </tr>\n",
       "    <tr>\n",
       "      <th>max</th>\n",
       "      <td>1.000000</td>\n",
       "      <td>0.985533</td>\n",
       "      <td>1.000000</td>\n",
       "      <td>30.709360</td>\n",
       "    </tr>\n",
       "  </tbody>\n",
       "</table>\n",
       "</div>"
      ],
      "text/plain": [
       "          steering     throttle        brake        speed\n",
       "count  8036.000000  8036.000000  8036.000000  8036.000000\n",
       "mean      0.004070     0.869660     0.001970    28.169839\n",
       "std       0.128840     0.301326     0.036565     6.149327\n",
       "min      -0.942695     0.000000     0.000000     0.502490\n",
       "25%       0.000000     0.985533     0.000000    30.183093\n",
       "50%       0.000000     0.985533     0.000000    30.186400\n",
       "75%       0.000000     0.985533     0.000000    30.186640\n",
       "max       1.000000     0.985533     1.000000    30.709360"
      ]
     },
     "execution_count": 1,
     "metadata": {},
     "output_type": "execute_result"
    }
   ],
   "source": [
    "import pandas as pd\n",
    "import scipy.misc\n",
    "import random\n",
    "import numpy as np\n",
    "import cv2\n",
    "import time\n",
    "import pickle \n",
    "\n",
    "#read data.txt\n",
    "driving_log=pd.read_csv('../data/driving_log.csv').sample(frac=1.0)\n",
    "\n",
    "driving_log.describe()"
   ]
  },
  {
   "cell_type": "code",
   "execution_count": 2,
   "metadata": {
    "collapsed": false
   },
   "outputs": [
    {
     "name": "stdout",
     "output_type": "stream",
     "text": [
      "Non-zero steering data: 3675\n",
      "Zero steering angle data: 4361\n",
      "Total data set: 4046\n"
     ]
    }
   ],
   "source": [
    "df_no_zero = driving_log[driving_log.steering != 0]\n",
    "df_zero = driving_log[driving_log.steering == 0]\n",
    "\n",
    "print(\"Non-zero steering data: %d\"%(len(df_no_zero)))\n",
    "print(\"Zero steering angle data: %d\"%(len(df_zero)))\n",
    "df = df_no_zero.append(df_zero.sample(frac=0.085))\n",
    "print(\"Total data set: %d\"%(len(df)))\n",
    "\n",
    "df[['center','left','right','steering']].to_csv('../data/trimmed_driving_log.csv',index=False)"
   ]
  },
  {
   "cell_type": "code",
   "execution_count": 3,
   "metadata": {
    "collapsed": false
   },
   "outputs": [
    {
     "ename": "KeyboardInterrupt",
     "evalue": "",
     "output_type": "error",
     "traceback": [
      "\u001b[0;31m\u001b[0m",
      "\u001b[0;31mKeyboardInterrupt\u001b[0mTraceback (most recent call last)",
      "\u001b[0;32m<ipython-input-3-03f26bd33e0e>\u001b[0m in \u001b[0;36m<module>\u001b[0;34m()\u001b[0m\n\u001b[1;32m      9\u001b[0m \u001b[0;32mfor\u001b[0m \u001b[0mrow\u001b[0m \u001b[0;32min\u001b[0m \u001b[0mimages\u001b[0m\u001b[0;34m:\u001b[0m\u001b[0;34m\u001b[0m\u001b[0m\n\u001b[1;32m     10\u001b[0m     \u001b[0msavetoGallery\u001b[0m\u001b[0;34m(\u001b[0m\u001b[0mrow\u001b[0m\u001b[0;34m[\u001b[0m\u001b[0;36m0\u001b[0m\u001b[0;34m]\u001b[0m\u001b[0;34m)\u001b[0m\u001b[0;34m\u001b[0m\u001b[0m\n\u001b[0;32m---> 11\u001b[0;31m     \u001b[0msavetoGallery\u001b[0m\u001b[0;34m(\u001b[0m\u001b[0mrow\u001b[0m\u001b[0;34m[\u001b[0m\u001b[0;36m1\u001b[0m\u001b[0;34m]\u001b[0m\u001b[0;34m)\u001b[0m\u001b[0;34m\u001b[0m\u001b[0m\n\u001b[0m\u001b[1;32m     12\u001b[0m     \u001b[0msavetoGallery\u001b[0m\u001b[0;34m(\u001b[0m\u001b[0mrow\u001b[0m\u001b[0;34m[\u001b[0m\u001b[0;36m2\u001b[0m\u001b[0;34m]\u001b[0m\u001b[0;34m)\u001b[0m\u001b[0;34m\u001b[0m\u001b[0m\n",
      "\u001b[0;32m<ipython-input-3-03f26bd33e0e>\u001b[0m in \u001b[0;36msavetoGallery\u001b[0;34m(string)\u001b[0m\n\u001b[1;32m      3\u001b[0m     \u001b[0;32massert\u001b[0m\u001b[0;34m(\u001b[0m\u001b[0mstring\u001b[0m \u001b[0;32mis\u001b[0m \u001b[0;32mnot\u001b[0m \u001b[0;32mNone\u001b[0m\u001b[0;34m)\u001b[0m\u001b[0;34m\u001b[0m\u001b[0m\n\u001b[1;32m      4\u001b[0m     \u001b[0mstring\u001b[0m \u001b[0;34m=\u001b[0m \u001b[0mstring\u001b[0m\u001b[0;34m.\u001b[0m\u001b[0mstrip\u001b[0m\u001b[0;34m(\u001b[0m\u001b[0;34m)\u001b[0m\u001b[0;34m\u001b[0m\u001b[0m\n\u001b[0;32m----> 5\u001b[0;31m     \u001b[0mimg\u001b[0m \u001b[0;34m=\u001b[0m \u001b[0mcv2\u001b[0m\u001b[0;34m.\u001b[0m\u001b[0mimread\u001b[0m\u001b[0;34m(\u001b[0m\u001b[0;34m'../data/'\u001b[0m \u001b[0;34m+\u001b[0m \u001b[0mstring\u001b[0m\u001b[0;34m)\u001b[0m\u001b[0;34m\u001b[0m\u001b[0m\n\u001b[0m\u001b[1;32m      6\u001b[0m     \u001b[0mgallery\u001b[0m\u001b[0;34m[\u001b[0m\u001b[0mstring\u001b[0m\u001b[0;34m]\u001b[0m \u001b[0;34m=\u001b[0m \u001b[0mimg\u001b[0m\u001b[0;34m\u001b[0m\u001b[0m\n\u001b[1;32m      7\u001b[0m \u001b[0;34m\u001b[0m\u001b[0m\n",
      "\u001b[0;31mKeyboardInterrupt\u001b[0m: "
     ]
    }
   ],
   "source": [
    "gallery = {}\n",
    "def savetoGallery(string):\n",
    "    assert(string is not None)\n",
    "    string = string.strip()\n",
    "    img = cv2.imread('../data/' + string)\n",
    "    gallery[string] = img\n",
    "\n",
    "images = driving_log[['center','left','right']].as_matrix()\n",
    "for row in images:\n",
    "    savetoGallery(row[0])\n",
    "    savetoGallery(row[1])\n",
    "    savetoGallery(row[2])"
   ]
  },
  {
   "cell_type": "code",
   "execution_count": 4,
   "metadata": {
    "collapsed": false
   },
   "outputs": [
    {
     "name": "stdout",
     "output_type": "stream",
     "text": [
      "total number: 11947\n"
     ]
    }
   ],
   "source": [
    "print('total number: {}'.format(len(gallery)))\n",
    "f = open('../gallery.p', 'wb')   \n",
    "pickle.dump(gallery, f)      \n",
    "f.close() "
   ]
  },
  {
   "cell_type": "code",
   "execution_count": 5,
   "metadata": {
    "collapsed": false,
    "scrolled": true
   },
   "outputs": [
    {
     "data": {
      "image/png": "[encoded data removed]",
      "text/plain": [
       "<matplotlib.figure.Figure at 0x7fee21e0deb8>"
      ]
     },
     "metadata": {},
     "output_type": "display_data"
    },
    {
     "data": {
      "image/png": "[encoded data removed]",
      "text/plain": [
       "<matplotlib.figure.Figure at 0x7fee1e0aba90>"
      ]
     },
     "metadata": {},
     "output_type": "display_data"
    }
   ],
   "source": [
    "### inspection\n",
    "import matplotlib.pyplot as plt\n",
    "%matplotlib inline\n",
    "def inspectHistogramOriginal():\n",
    "    pltChangeSize()\n",
    "    \n",
    "    plt.hist(driving_log['steering'], bins=101, label='count')\n",
    "\n",
    "    plt.title('Original steering angle histogram')  \n",
    "    plt.xlabel('steering angles')  \n",
    "    plt.ylabel('Counts')  \n",
    "    plt.legend()  \n",
    "    plt.show()\n",
    "    \n",
    "def inspectHistogram():\n",
    "    pltChangeSize()\n",
    "    \n",
    "    plt.hist(df['steering'], bins=101, label='count')\n",
    "\n",
    "    plt.title('Trimmed steering angle histogram')  \n",
    "    plt.xlabel('steering angles')  \n",
    "    plt.ylabel('Counts')  \n",
    "    plt.legend()  \n",
    "    plt.show()\n",
    "    \n",
    "def pltChangeSize():\n",
    "    fig_size = plt.rcParams[\"figure.figsize\"]\n",
    "    # Set figure width to 12 and height to 9\n",
    "    fig_size[0] = 12\n",
    "    fig_size[1] = 9\n",
    "    plt.rcParams[\"figure.figsize\"] = fig_size\n",
    "\n",
    "inspectHistogramOriginal()\n",
    "inspectHistogram()"
   ]
  },
  {
   "cell_type": "raw",
   "metadata": {
    "collapsed": true
   },
   "source": [
    "LEGACY CODE BELOW"
   ]
  },
  {
   "cell_type": "raw",
   "metadata": {
    "collapsed": false
   },
   "source": [
    "print('total number: {}'.format(len(x)))\n",
    "pdata = {'x':x, 'y':y}\n",
    "f = open('./data.p', 'wb')   \n",
    "pickle.dump(pdata, f)      \n",
    "f.close() "
   ]
  },
  {
   "cell_type": "raw",
   "metadata": {
    "collapsed": false
   },
   "source": [
    "\n",
    "\n",
    "def frange(start, end, step):\n",
    "    while start < end:\n",
    "        yield start\n",
    "        start += step\n",
    "        \n",
    "def plotImagesPerClass():\n",
    "    pltChangeSize()\n",
    "    step = 0.2\n",
    "    classes = frange(-1.1, 1.1, step)\n",
    "\n",
    "    for cls in classes:\n",
    "        fig, axes = plt.subplots(ncols=3, figsize=(18, 4))\n",
    "        ceil = cls + step\n",
    "        subset = driving_log.loc[(driving_log['steering'] >= cls) & (driving_log['steering'] < ceil)]\n",
    "        print(\"{} Steering angle between {:.1f} and {:.1f}\".format(len(subset), cls, ceil))\n",
    "        \n",
    "        if len(subset)>0:\n",
    "            idx = subset.sample(1)\n",
    "            \n",
    "        axes[0].set_xticks([])\n",
    "        axes[0].set_yticks([])\n",
    "        print('./data/' + idx['left'].iloc[0].strip())\n",
    "        axes[0].imshow(cv2.resize(scipy.misc.imread('./data/' + idx['left'].iloc[0].strip()),(96,48)))\n",
    "\n",
    "        axes[1].set_xticks([])\n",
    "        axes[1].set_yticks([])\n",
    "        axes[1].imshow(scipy.misc.imread('./data/' + idx['center'].iloc[0].strip()))\n",
    "\n",
    "        axes[2].set_xticks([])\n",
    "        axes[2].set_yticks([])\n",
    "        axes[2].imshow(scipy.misc.imread('./data/' + idx['right'].iloc[0].strip()))\n",
    "\n",
    "\n",
    "        plt.show()\n",
    "            \n",
    "\n",
    "    \n",
    "plotImagesPerClass()"
   ]
  },
  {
   "cell_type": "raw",
   "metadata": {
    "collapsed": true
   },
   "source": [
    "pts1 = np.float32([[140,60],[180,60],[0,100],[320,100]])\n",
    "pts2 = np.float32([[140,0],[180,0],[0,120],[320,120]])\n",
    "\n",
    "M = cv2.getPerspectiveTransform(pts1,pts2)\n",
    "\n",
    "def transform(img):\n",
    "    dst = cv2.warpPerspective(img,M,(320,160))\n",
    "    dst = cv2.resize(dst, (64,64))\n",
    "    return dst"
   ]
  },
  {
   "cell_type": "raw",
   "metadata": {
    "collapsed": true
   },
   "source": [
    "# legacy code"
   ]
  },
  {
   "cell_type": "raw",
   "metadata": {
    "collapsed": false
   },
   "source": [
    "#get number of images\n",
    "num_images = len(df)\n",
    "\n",
    "#split train/validation data set\n",
    "#msk = np.random.rand(num_images) < 0.8\n",
    "#train = df[msk]\n",
    "#valid = df[~msk]\n",
    "\n",
    "#print('total number: {}, reserved for training: {}, validation: {}'.format(num_images, len(train), len(valid)))\n",
    "\n",
    "def LoadTrainBatch(batch_size):\n",
    "    offset = 0.2\n",
    "    \n",
    "    x_out = []\n",
    "    y_out = []\n",
    "    batch = df.sample(batch_size).as_matrix()\n",
    "    \n",
    "    for row in batch:\n",
    "        x_out.append('./data/' + row[0].strip())\n",
    "        y_out.append(row[3])\n",
    "        \n",
    "        # add left image\n",
    "        x_out.append('./data/' + row[1].strip())\n",
    "        y_out.append(min(1, row[3] + offset))\n",
    "        \n",
    "        # add right image\n",
    "        x_out.append('./data/' + row[2].strip())\n",
    "        y_out.append(max(-1, row[3] - offset))\n",
    "        \n",
    "        # flip horizontal\n",
    "        x_out.append('./data/' + row[0].strip())\n",
    "        y_out.append(- row[3])\n",
    "        \n",
    "        # add left image\n",
    "        x_out.append('./data/' + row[1].strip())\n",
    "        y_out.append(- min(1, row[3] + offset))\n",
    "        \n",
    "        # add right image\n",
    "        x_out.append('./data/' + row[2].strip())\n",
    "        y_out.append(- max(-1, row[3] - offset))\n",
    "        \n",
    "    print(len(x_out))\n",
    "    return np.array(x_out), np.array(y_out)\n",
    "\n",
    "def LoadValBatch(batch_size):\n",
    "    x_out = []\n",
    "    y_out = []\n",
    "    batch = valid.sample(batch_size).as_matrix()\n",
    "    for row in batch:\n",
    "        x_out.append(transform(scipy.misc.imread('./data/' + row[0].strip())) / 255 -0.5)\n",
    "        y_out.append(row[3])\n",
    "    return np.array(x_out), np.array(y_out)\n",
    "\n",
    "#xCenter_train, y_train = LoadTrainBatch(len(train))\n",
    "#xCenter_valid, y_valid = LoadTrainBatch(len(valid))\n",
    "\n",
    "x, y = LoadTrainBatch(len(df))"
   ]
  }
 ],
 "metadata": {
  "anaconda-cloud": {},
  "kernelspec": {
   "display_name": "Python [default]",
   "language": "python",
   "name": "python3"
  },
  "language_info": {
   "codemirror_mode": {
    "name": "ipython",
    "version": 3
   },
   "file_extension": ".py",
   "mimetype": "text/x-python",
   "name": "python",
   "nbconvert_exporter": "python",
   "pygments_lexer": "ipython3",
   "version": "3.5.2"
  }
 },
 "nbformat": 4,
 "nbformat_minor": 2
}
